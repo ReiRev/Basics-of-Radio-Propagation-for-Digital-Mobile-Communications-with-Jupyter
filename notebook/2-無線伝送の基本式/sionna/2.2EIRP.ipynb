{
 "cells": [
  {
   "cell_type": "code",
   "execution_count": 1,
   "id": "c289c29e",
   "metadata": {},
   "outputs": [],
   "source": [
    "import sionna.rt as rt"
   ]
  },
  {
   "cell_type": "code",
   "execution_count": null,
   "id": "e67cc5a6",
   "metadata": {},
   "outputs": [
    {
     "ename": "AttributeError",
     "evalue": "'str' object has no attribute 'preview'",
     "output_type": "error",
     "traceback": [
      "\u001b[31m---------------------------------------------------------------------------\u001b[39m",
      "\u001b[31mAttributeError\u001b[39m                            Traceback (most recent call last)",
      "\u001b[36mCell\u001b[39m\u001b[36m \u001b[39m\u001b[32mIn[6]\u001b[39m\u001b[32m, line 1\u001b[39m\n\u001b[32m----> \u001b[39m\u001b[32m1\u001b[39m \u001b[43mrt\u001b[49m\u001b[43m.\u001b[49m\u001b[43mscene\u001b[49m\u001b[43m.\u001b[49m\u001b[43mbox\u001b[49m\u001b[43m.\u001b[49m\u001b[43mpreview\u001b[49m()\n",
      "\u001b[31mAttributeError\u001b[39m: 'str' object has no attribute 'preview'"
     ]
    }
   ],
   "source": [
    "scene = rt.Scene()\n",
    "\n",
    "tx = rt.Transmitter(name=\"tx\", position=[0, 0, 3])\n",
    "scene.add(tx)\n",
    "rx = rt.Receiver(name=\"rx\", position=[100, 0, 10])\n",
    "scene.add(rx)\n",
    "\n",
    "scene.tx_array = rt.PlanarArray(num_rows=1, num_cols=1, pattern=\"iso\", polarization=\"V\")\n",
    "scene.rx_array = rt.PlanarArray(num_rows=1, num_cols=1, pattern=\"iso\", polarization=\"V\")\n",
    "\n",
    "scene.thermal_noise_power="
   ]
  },
  {
   "cell_type": "code",
   "execution_count": 7,
   "id": "2453be0c",
   "metadata": {},
   "outputs": [
    {
     "data": {
      "text/plain": [
       "sionna.rt.scene.Scene"
      ]
     },
     "execution_count": 7,
     "metadata": {},
     "output_type": "execute_result"
    }
   ],
   "source": [
    "type(rt.load_scene(rt.scene.simple_reflector, merge_shapes=False))"
   ]
  },
  {
   "cell_type": "code",
   "execution_count": null,
   "id": "d4348929",
   "metadata": {},
   "outputs": [],
   "source": []
  }
 ],
 "metadata": {
  "kernelspec": {
   "display_name": "radio-propagation-sionna-xS3fZVNL-py3.11",
   "language": "python",
   "name": "python3"
  },
  "language_info": {
   "codemirror_mode": {
    "name": "ipython",
    "version": 3
   },
   "file_extension": ".py",
   "mimetype": "text/x-python",
   "name": "python",
   "nbconvert_exporter": "python",
   "pygments_lexer": "ipython3",
   "version": "3.11.11"
  }
 },
 "nbformat": 4,
 "nbformat_minor": 5
}
